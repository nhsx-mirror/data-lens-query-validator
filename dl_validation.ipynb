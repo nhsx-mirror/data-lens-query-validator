{
  "nbformat": 4,
  "nbformat_minor": 0,
  "metadata": {
    "colab": {
      "name": "dl_validation.ipynb",
      "provenance": []
    },
    "kernelspec": {
      "name": "python3",
      "display_name": "Python 3"
    }
  },
  "cells": [
    {
      "cell_type": "code",
      "metadata": {
        "colab": {
          "base_uri": "https://localhost:8080/"
        },
        "id": "dUEhU0R_kW0M",
        "outputId": "10717258-0e9d-485e-ec1a-35148cbbbfb2"
      },
      "source": [
        "# https://stackoverflow.com/questions/59008756/getting-google-search-result-urls-from-search-string-or-url\n",
        "import requests\n",
        "from bs4 import BeautifulSoup\n",
        "\n",
        "url = \"http://www.google.com/search?q={}&hl=en\"\n",
        "\n",
        "def scrape_links(query):\n",
        "    res = requests.get(url.format(query.replace(\" \",\"+\")),headers={\"User-Agent\":\"Mozilla/5.0\"})\n",
        "    soup = BeautifulSoup(res.text,\"lxml\")\n",
        "    for result in soup.findAll('a'):\n",
        "        print(result.get('href'))\n",
        "\n",
        "scrape_links('python')"
      ],
      "execution_count": 84,
      "outputs": [
        {
          "output_type": "stream",
          "text": [
            "/?sa=X&ved=0ahUKEwjW35C157LtAhWaHzQIHV8mA9kQOwgC\n",
            "/?hl=en&output=search&sa=X&ved=0ahUKEwjW35C157LtAhWaHzQIHV8mA9kQPAgE\n",
            "/search?q=python&hl=en&gbv=1&sei=k1_JX5bKLZq_0PEP38yMyA0\n",
            "/search?q=python&hl=en&source=lnms&tbm=isch&sa=X&ved=0ahUKEwjW35C157LtAhWaHzQIHV8mA9kQ_AUICCgB\n",
            "/search?q=python&hl=en&source=lnms&tbm=vid&sa=X&ved=0ahUKEwjW35C157LtAhWaHzQIHV8mA9kQ_AUICSgC\n",
            "/search?q=python&hl=en&source=lnms&tbm=bks&sa=X&ved=0ahUKEwjW35C157LtAhWaHzQIHV8mA9kQ_AUICigD\n",
            "http://maps.google.com/maps?q=python&hl=en&um=1&ie=UTF-8&sa=X&ved=0ahUKEwjW35C157LtAhWaHzQIHV8mA9kQ_AUICygE\n",
            "/search?q=python&hl=en&source=lnms&tbm=nws&sa=X&ved=0ahUKEwjW35C157LtAhWaHzQIHV8mA9kQ_AUIDCgF\n",
            "/search?q=python&hl=en&source=lnms&tbm=shop&sa=X&ved=0ahUKEwjW35C157LtAhWaHzQIHV8mA9kQ_AUIDSgG\n",
            "/advanced_search\n",
            "/search?q=python&hl=en&source=lnt&tbs=qdr:h&sa=X&ved=0ahUKEwjW35C157LtAhWaHzQIHV8mA9kQpwUIDw\n",
            "/search?q=python&hl=en&source=lnt&tbs=qdr:d&sa=X&ved=0ahUKEwjW35C157LtAhWaHzQIHV8mA9kQpwUIEA\n",
            "/search?q=python&hl=en&source=lnt&tbs=qdr:w&sa=X&ved=0ahUKEwjW35C157LtAhWaHzQIHV8mA9kQpwUIEQ\n",
            "/search?q=python&hl=en&source=lnt&tbs=qdr:m&sa=X&ved=0ahUKEwjW35C157LtAhWaHzQIHV8mA9kQpwUIEg\n",
            "/search?q=python&hl=en&source=lnt&tbs=qdr:y&sa=X&ved=0ahUKEwjW35C157LtAhWaHzQIHV8mA9kQpwUIEw\n",
            "/search?q=python&hl=en&source=lnt&tbs=li:1&sa=X&ved=0ahUKEwjW35C157LtAhWaHzQIHV8mA9kQpwUIFQ\n",
            "http://www.google.com/aclk?sa=l&ai=DChcSEwim8pe157LtAhXYH60GHawXC4AYABAAGgJwdg&sig=AOD64_31tEzcoCvh9BjjMLOKn--4hX_1rg&ved=2ahUKEwjW35C157LtAhWaHzQIHV8mA9kQ0Qx6BAgSEAE&adurl=\n",
            "http://www.google.com/aclk?sa=l&ai=DChcSEwim8pe157LtAhXYH60GHawXC4AYABABGgJwdg&sig=AOD64_288U4Z2kIGawn6dub46W7xdXB5Vw&ved=2ahUKEwjW35C157LtAhWaHzQIHV8mA9kQwgUoAHoECBIQAw&adurl=\n",
            "http://www.google.com/aclk?sa=l&ai=DChcSEwim8pe157LtAhXYH60GHawXC4AYABACGgJwdg&sig=AOD64_0lhfLrmwD1r8NBbZ41nsegetzIfg&ved=2ahUKEwjW35C157LtAhWaHzQIHV8mA9kQwgUoAXoECBIQBA&adurl=\n",
            "/url?q=https://www.python.org/&sa=U&ved=2ahUKEwjW35C157LtAhWaHzQIHV8mA9kQFjAAegQIAxAB&usg=AOvVaw3v-u-TtiIPGX61cLvaECi4\n",
            "/url?q=https://www.python.org/downloads/&sa=U&ved=2ahUKEwjW35C157LtAhWaHzQIHV8mA9kQjBAwAXoECAMQAw&usg=AOvVaw3ZUJNNY4TwvnLiavB1l13O\n",
            "/url?q=https://www.python.org/about/gettingstarted/&sa=U&ved=2ahUKEwjW35C157LtAhWaHzQIHV8mA9kQjBAwAnoECAMQBQ&usg=AOvVaw1ux-_R8Y3VunI7JWaYXsEZ\n",
            "/url?q=https://www.python.org/downloads/release/python-390/&sa=U&ved=2ahUKEwjW35C157LtAhWaHzQIHV8mA9kQjBAwA3oECAMQBw&usg=AOvVaw1ppnIb5dTZcDIqH95fM30c\n",
            "/url?q=https://www.python.org/doc/&sa=U&ved=2ahUKEwjW35C157LtAhWaHzQIHV8mA9kQjBAwBHoECAMQCQ&usg=AOvVaw2jf56i8igUs8Ij3LgLZpsy\n",
            "/url?q=https://docs.python.org/3/tutorial/&sa=U&ved=2ahUKEwjW35C157LtAhWaHzQIHV8mA9kQjBAwBXoECAMQCw&usg=AOvVaw2OPNbjGAwDdQdOz5ucno3i\n",
            "/url?q=https://docs.python.org/&sa=U&ved=2ahUKEwjW35C157LtAhWaHzQIHV8mA9kQjBAwBnoECAMQDQ&usg=AOvVaw2NkT4HGSvj3Bw4QufjRPxS\n",
            "/url?q=https://en.wikipedia.org/wiki/Python_(programming_language)&sa=U&ved=2ahUKEwjW35C157LtAhWaHzQIHV8mA9kQFjAHegQIBhAB&usg=AOvVaw0_W6Ii7VLK_0kZWUk9rWF8\n",
            "/url?q=https://en.wikipedia.org/wiki/Python_Software_Foundation&sa=U&ved=2ahUKEwjW35C157LtAhWaHzQIHV8mA9kQs2YwB3oECAYQBA&usg=AOvVaw3F6EODhhydgZ4bRfUi_V6x\n",
            "/url?q=https://en.wikipedia.org/wiki/Duck_typing&sa=U&ved=2ahUKEwjW35C157LtAhWaHzQIHV8mA9kQs2YwB3oECAYQBg&usg=AOvVaw2Ovv14Nf9hfvaqgDURoH9B\n",
            "/url?q=https://en.wikipedia.org/wiki/Dynamic_typing&sa=U&ved=2ahUKEwjW35C157LtAhWaHzQIHV8mA9kQs2YwB3oECAYQBw&usg=AOvVaw0DTFwfhR9Tw6qD2JZ-va6R\n",
            "/url?q=https://en.wikipedia.org/wiki/Gradual_typing&sa=U&ved=2ahUKEwjW35C157LtAhWaHzQIHV8mA9kQs2YwB3oECAYQCA&usg=AOvVaw2wQwqE6PRJwSHIi9uw8Tz7\n",
            "/url?q=https://www.w3schools.com/python/&sa=U&ved=2ahUKEwjW35C157LtAhWaHzQIHV8mA9kQFjAQegQIBRAB&usg=AOvVaw1SESpfwNDL6qEZ_DTamlwW\n",
            "/imgres?imgurl=https://upload.wikimedia.org/wikipedia/commons/thumb/f/f8/Python_logo_and_wordmark.svg/1024px-Python_logo_and_wordmark.svg.png&imgrefurl=https://commons.wikimedia.org/wiki/File:Python_logo_and_wordmark.svg&h=303&w=1024&tbnid=XFtyOkNyjK_gvM&q=python&tbnh=122&tbnw=413&usg=AI4_-kSyt-PCcecUq9DRLEmbOaPne7cFbg&vet=1&docid=EVmS09WSOEFvWM&itg=1&hl=en&sa=X&ved=2ahUKEwjW35C157LtAhWaHzQIHV8mA9kQ9QF6BAgREAQ\n",
            "/imgres?imgurl=https://www.python.org/static/opengraph-icon-200x200.png&imgrefurl=https://www.python.org/&h=200&w=200&tbnid=vZKJO2_oBP1evM&q=python&tbnh=104&tbnw=104&usg=AI4_-kRl0hrywmcvzmqAuRzfJ1xUv1fi5g&vet=1&docid=Fvb7Gz_c4rwxjM&hl=en&sa=X&ved=2ahUKEwjW35C157LtAhWaHzQIHV8mA9kQ9QF6BAgREAY\n",
            "/imgres?imgurl=https://www.python.org/static/img/python-logo@2x.png&imgrefurl=https://www.python.org/&h=164&w=580&tbnid=6gL-m2EeEpxmGM&q=python&tbnh=38&tbnw=134&usg=AI4_-kRGvALC2SlcVkfSpuEQd9xTdMgAtQ&vet=1&docid=Fvb7Gz_c4rwxjM&hl=en&sa=X&ved=2ahUKEwjW35C157LtAhWaHzQIHV8mA9kQ9QF6BAgREAg\n",
            "/imgres?imgurl=https://raw.githubusercontent.com/microsoft/vscode-python/main/images/ConfigureDebugger.gif&imgrefurl=https://marketplace.visualstudio.com/items?itemName%3Dms-python.python&h=551&w=968&tbnid=ERFkA_c3qdQq8M&q=python&tbnh=84&tbnw=148&usg=AI4_-kR3TV8-QYhK7rH6hrl2WiGWeaUdZw&vet=1&docid=Qm8Ivh7KyhCfCM&hl=en&sa=X&ved=2ahUKEwjW35C157LtAhWaHzQIHV8mA9kQ9QF6BAgREAo\n",
            "http://www.google.com/search?hl=en&ei=k1_JX5bKLZq_0PEP38yMyA0&q=python&tbm=isch&sa=X&ved=2ahUKEwjW35C157LtAhWaHzQIHV8mA9kQ7Al6BAgREAw\n",
            "/url?q=https://en.wikipedia.org/wiki/Python_(programming_language)&sa=U&ved=2ahUKEwjW35C157LtAhWaHzQIHV8mA9kQmhMwHnoECBEQDg&usg=AOvVaw2iMFSO4RHTH1hmbn8stbEx\n",
            "/search?hl=en&q=5+October+2020&stick=H4sIAAAAAAAAAOPgE-LQz9U3MK0yjFcS0C_RNzIqtqgqKrOwKMmuKtCSLC620i9PTUpLTC4ptiouSUzKiS9KzUlNLF7Eymeq4J9ckp-UWqRgZGBkAAAdo0A0SgAAAA&sa=X&ved=2ahUKEwjW35C157LtAhWaHzQIHV8mA9kQmxMwIXoECBEQEQ\n",
            "/search?hl=en&q=5+October+2020&stick=H4sIAAAAAAAAAOPgE-LQz9U3MK0yjFcS0C_RNzIqtqgqKrOwKMmuKtCSLi620i9PTUpLTC4ptiooSi3LTC2PL0rNSU0sXsTKZ6rgn1ySn5RapGBkYGQAAGaWYSNMAAAA&sa=X&ved=2ahUKEwjW35C157LtAhWaHzQIHV8mA9kQmxMwInoECBEQEw\n",
            "/search?hl=en&q=Guido+van+Rossum&stick=H4sIAAAAAAAAAOPgE-LQz9U3MK0yjFfiBLEMMwxMk7UMMsqt9JPzc3JSk0sy8_P0C4ry04sSc3Mz89LjcxLz0ksT01OLrVJSizPT81JTFJIqF7EKuJdmpuQrlCXmKQTlFxeX5gIAXhtP9lwAAAA&sa=X&ved=2ahUKEwjW35C157LtAhWaHzQIHV8mA9kQmxMwI3oECBEQFQ\n",
            "/search?hl=en&q=Linux&stick=H4sIAAAAAAAAAOPgE-LQz9U3MK0yjFfiBLHSCqqqCrT4i4ut9MtTk9ISk0uKrfKLF7Gy-mTmlVYAANFHIoIwAAAA&sa=X&ved=2ahUKEwjW35C157LtAhWaHzQIHV8mA9kQmxMwJHoECBEQFw\n",
            "/search?hl=en&q=macOS&stick=H4sIAAAAAAAAAOPgE-LQz9U3MK0yjFeCsEwri7T4i4ut9MtTk9ISk0uKrfKLF7Gy5iYm-wcDAFc3wQUvAAAA&sa=X&ved=2ahUKEwjW35C157LtAhWaHzQIHV8mA9kQmxMwJHoECBEQGA\n",
            "/search?hl=en&q=Python+Software+Foundation&stick=H4sIAAAAAAAAAOPgE-LQz9U3MK0yjFfiBLGMjXMMC7RUMsqt9JPzc3JSk0sy8_P0k4oS81KKrQoSi1LzShSS83MLEvMqF7FKBVSWZOTnKQTnp5WUA-UU3PJL81ISQVoAjnKATFoAAAA&sa=X&ved=2ahUKEwjW35C157LtAhWaHzQIHV8mA9kQmxMwJXoECBEQGg\n",
            "/search?hl=en&q=IDLE&stick=H4sIAAAAAAAAAONgFuLQz9U3MK0yjFfiArGMCosqsku0RLKTrfST83Nz8_OsUvLL88oTi1KKF7GyeLr4uAIAHTjxWjUAAAA&sa=X&ved=2ahUKEwjW35C157LtAhWaHzQIHV8mA9kQ0I4BMCZ6BAgREB0\n",
            "/search?hl=en&q=PyCharm&stick=H4sIAAAAAAAAAONgFuLQz9U3MK0yjFfiArFSik1TKqq0RLKTrfST83Nz8_OsUvLL88oTi1KKF7GyB1Q6ZyQW5QIA9R-D-jgAAAA&sa=X&ved=2ahUKEwjW35C157LtAhWaHzQIHV8mA9kQ0I4BMCZ6BAgREB8\n",
            "/search?hl=en&q=Spyder+(software)&stick=H4sIAAAAAAAAAONgFuLQz9U3MK0yjFfiArGyLLPTsyq1RLKTrfST83Nz8_OsUvLL88oTi1KKF7EKBhdUpqQWKWgU56eVAMVSNQEgf8z_QgAAAA&sa=X&ved=2ahUKEwjW35C157LtAhWaHzQIHV8mA9kQ0I4BMCZ6BAgRECE\n",
            "/search?hl=en&q=Visual+Studio&stick=H4sIAAAAAAAAAONgFuLQz9U3MK0yjFfiBLEMi-IrDbREspOt9JPzc3Pz86xS8svzyhOLUooXsfKGZRaXJuYoBJeUpmTmAwB_BjdaPQAAAA&sa=X&ved=2ahUKEwjW35C157LtAhWaHzQIHV8mA9kQ0I4BMCZ6BAgRECM\n",
            "/search?hl=en&q=Eclipse+(software)&stick=H4sIAAAAAAAAAONgFuLQz9U3MK0yjFfiBLEM04oNU7REspOt9JPzc3Pz86xS8svzyhOLUooXsQq5JudkFhSnKmgU56eVAAVTNQG9O5yaQgAAAA&sa=X&ved=2ahUKEwjW35C157LtAhWaHzQIHV8mA9kQ0I4BMCZ6BAgRECU\n",
            "/search?hl=en&q=PyDev&stick=H4sIAAAAAAAAAONgFuLQz9U3MK0yjFfiArFM0tMzUiq1RLKTrfST83Nz8_OsUvLL88oTi1KKF7GyBlS6pJYBALI4ny42AAAA&sa=X&ved=2ahUKEwjW35C157LtAhWaHzQIHV8mA9kQ0I4BMCZ6BAgRECc\n",
            "/search?hl=en&q=Java&stick=H4sIAAAAAAAAAONgFuLQz9U3MK0yjFfiArHMi5Oy05K0hLOTrfST83Nz8_OsijNTUssTK4sXsbJ4JZYlAgB_0SeKNAAAAA&sa=X&ved=2ahUKEwjW35C157LtAhWaHzQIHV8mA9kQ0I4BMCd6BAgRECo\n",
            "/search?hl=en&q=C%2B%2B&stick=H4sIAAAAAAAAAONgFuLQz9U3MK0yjFcCs7LSC9O1hLOTrfST83Nz8_OsijNTUssTK4sXsTI7a2sDAIk31Y0xAAAA&sa=X&ved=2ahUKEwjW35C157LtAhWaHzQIHV8mA9kQ0I4BMCd6BAgRECw\n",
            "/search?hl=en&q=JavaScript&stick=H4sIAAAAAAAAAONgFuLQz9U3MK0yjFcCs4wKLM21hLOTrfST83Nz8_OsijNTUssTK4sXsXJ5JZYlBicXZRaUAACuW_JFOAAAAA&sa=X&ved=2ahUKEwjW35C157LtAhWaHzQIHV8mA9kQ0I4BMCd6BAgREC4\n",
            "/search?hl=en&q=PHP&stick=H4sIAAAAAAAAAONgFuLQz9U3MK0yjFcCs8wMssu0hLOTrfST83Nz8_OsijNTUssTK4sXsTIHeAQAAD9fip4xAAAA&sa=X&ved=2ahUKEwjW35C157LtAhWaHzQIHV8mA9kQ0I4BMCd6BAgREDA\n",
            "/search?hl=en&q=R&stick=H4sIAAAAAAAAAONgFuLQz9U3MK0yjFfiBLGMDI2ycrWEs5Ot9JPzc3Pz86yKM1NSyxMrixexMgYBAEYuNzAwAAAA&sa=X&ved=2ahUKEwjW35C157LtAhWaHzQIHV8mA9kQ0I4BMCd6BAgREDI\n",
            "/search?hl=en&q=Scratch&stick=H4sIAAAAAAAAAONgFuLQz9U3MK0yjFfiArGMLAzNzNO0hLOTrfST83Nz8_OsijNTUssTK4sXsbIHJxclliRnAADbcktbNwAAAA&sa=X&ved=2ahUKEwjW35C157LtAhWaHzQIHV8mA9kQ0I4BMCd6BAgREDQ\n",
            "/url?q=https://www.w3schools.com/python/python_intro.asp&sa=U&ved=2ahUKEwjW35C157LtAhWaHzQIHV8mA9kQFjAoegQIARAB&usg=AOvVaw3c5328a4sQyX4-B_HW8NoK\n",
            "/url?q=https://www.learnpython.org/&sa=U&ved=2ahUKEwjW35C157LtAhWaHzQIHV8mA9kQFjApegQIAhAB&usg=AOvVaw3Au52EXNpeWc2Q975RKQKV\n",
            "/url?q=https://www.tutorialspoint.com/python/index.htm&sa=U&ved=2ahUKEwjW35C157LtAhWaHzQIHV8mA9kQFjAqegQIBxAB&usg=AOvVaw1jNzj_wJ-IPAswwk3G6EIz\n",
            "/url?q=https://www.infoworld.com/article/3204016/what-is-python-powerful-intuitive-programming.html&sa=U&ved=2ahUKEwjW35C157LtAhWaHzQIHV8mA9kQFjAregQIBBAB&usg=AOvVaw00NmzuQQQKercUoELxaJZb\n",
            "/search?hl=en&q=Python+snake&sa=X&ved=2ahUKEwjW35C157LtAhWaHzQIHV8mA9kQ1QJ6BAgAEAI\n",
            "/search?hl=en&q=Python+tutorial&sa=X&ved=2ahUKEwjW35C157LtAhWaHzQIHV8mA9kQ1QJ6BAgAEAQ\n",
            "/search?hl=en&q=Python+download&sa=X&ved=2ahUKEwjW35C157LtAhWaHzQIHV8mA9kQ1QJ6BAgAEAY\n",
            "/search?hl=en&q=Python+online&sa=X&ved=2ahUKEwjW35C157LtAhWaHzQIHV8mA9kQ1QJ6BAgAEAg\n",
            "/search?hl=en&q=Python+for+beginners&sa=X&ved=2ahUKEwjW35C157LtAhWaHzQIHV8mA9kQ1QJ6BAgAEAo\n",
            "/search?hl=en&q=W3Schools+Python&sa=X&ved=2ahUKEwjW35C157LtAhWaHzQIHV8mA9kQ1QJ6BAgAEAw\n",
            "/search?hl=en&q=Python+program&sa=X&ved=2ahUKEwjW35C157LtAhWaHzQIHV8mA9kQ1QJ6BAgAEA4\n",
            "/search?hl=en&q=Python+compiler&sa=X&ved=2ahUKEwjW35C157LtAhWaHzQIHV8mA9kQ1QJ6BAgAEBA\n",
            "/search?q=python&hl=en&ei=k1_JX5bKLZq_0PEP38yMyA0&start=10&sa=N\n",
            "/url?q=https://accounts.google.com/ServiceLogin%3Fcontinue%3Dhttp://www.google.com/search%253Fq%253Dpython%2526hl%253Den%26hl%3Den&sa=U&ved=0ahUKEwjW35C157LtAhWaHzQIHV8mA9kQxs8CCKcB&usg=AOvVaw06Z9YlAHDV-D8P2tAhQ_FR\n",
            "http://www.google.com/preferences?hl=en&fg=1&sa=X&ved=0ahUKEwjW35C157LtAhWaHzQIHV8mA9kQ5fUCCKgB\n",
            "http://policies.google.com/privacy?hl=en&fg=1\n",
            "http://policies.google.com/terms?hl=en&fg=1\n"
          ],
          "name": "stdout"
        }
      ]
    }
  ]
}