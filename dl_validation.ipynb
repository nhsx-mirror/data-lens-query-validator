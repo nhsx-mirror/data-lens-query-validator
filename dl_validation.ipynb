{
  "nbformat": 4,
  "nbformat_minor": 0,
  "metadata": {
    "colab": {
      "name": "dl_validation.ipynb",
      "provenance": [],
      "collapsed_sections": []
    },
    "kernelspec": {
      "name": "python3",
      "display_name": "Python 3"
    }
  },
  "cells": [
    {
      "cell_type": "code",
      "metadata": {
        "colab": {
          "base_uri": "https://localhost:8080/"
        },
        "id": "9N1Uy2zSVQD-",
        "outputId": "f20f2f23-1951-44cc-e1a8-f2cfd55bac0e"
      },
      "source": [
        "# https://stackoverflow.com/questions/59008756/getting-google-search-result-urls-from-search-string-or-url\n",
        "import requests\n",
        "from bs4 import BeautifulSoup\n",
        "import pandas as pd\n",
        "\n",
        "example_queries_url = \"https://raw.githubusercontent.com/nhsx/data-lens-query-validator/main/example_queries.csv\"\n",
        "df = pd.read_csv(example_queries_url, error_bad_lines=False)\n",
        "\n",
        "query_results = []\n",
        "for query_search_term, correct_result_URL in zip(\n",
        "    df.query_search_term, df.correct_result_URL\n",
        "):\n",
        "    result_list = []\n",
        "    search_request = requests.get(\n",
        "        search_url.format(query_search_term.replace(\" \", \"+")),                 # add query string to search url and request\n",
        "        headers={\"User-Agent\": \"Mozilla/5.0\"},\n",
        "    )\n",
        "    soup = BeautifulSoup(search_request.text, \"lxml\")                           # parse HTML\n",
        "    for search_result in soup.findAll(\"a\"):                                     # find all hypertext link tags\n",
        "        result_list.append(search_result.get(\"href\"))                           # append list with each href (Hypertext REFerence) url i.e., <a href=\"url\">text<a/>\n",
        "    if any(correct_result_URL in url for url in result_list):                   # find any url that matches the data url we are looking for\n",
        "        query_results.append(correct_result_URL)\n",
        "\n",
        "print(query_results)\n"
      ],
      "execution_count": 25,
      "outputs": [
        {
          "output_type": "stream",
          "text": [
            "['https://digital.nhs.uk/data-and-information/data-collections-and-data-sets/data-collections/pomi', 'https://digital.nhs.uk/data-and-information/data-tools-and-services/tools-for-accessing-data/deployment-and-utilisation-hub/electronic-prescription-service-deployment-and-utilisation-data', 'https://www.england.nhs.uk/statistics/statistical-work-areas/nhs-111-minimum-data-set/', 'https://digital.nhs.uk/data-and-information/publications/statistical/patients-registered-at-a-gp-practice']\n"
          ],
          "name": "stdout"
        }
      ]
    }
  ]
}
