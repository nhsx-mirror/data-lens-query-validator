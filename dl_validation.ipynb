{
  "nbformat": 4,
  "nbformat_minor": 0,
  "metadata": {
    "colab": {
      "name": "dl_validation.ipynb",
      "provenance": [],
      "collapsed_sections": []
    },
    "kernelspec": {
      "name": "python3",
      "display_name": "Python 3",
      "language": "python"
    }
  },
  "cells": [
    {
      "cell_type": "code",
      "metadata": {
        "colab": {
          "base_uri": "https://localhost:8080/",
          "height": 421
        },
        "id": "9N1Uy2zSVQD-",
        "outputId": "30083f04-b99c-49ab-99f7-f93784f81a22"
      },
      "source": [
        "# https://stackoverflow.com/questions/59008756/getting-google-search-result-urls-from-search-string-or-url\n",
        "import requests\n",
        "from bs4 import BeautifulSoup\n",
        "import pandas as pd\n",
        "\n",
        "example_queries_url = \"https://raw.githubusercontent.com/nhsx/data-lens-query-validator/main/example_queries.csv\"\n",
        "df = pd.read_csv(example_queries_url, error_bad_lines=False)\n",
        "search_url = \"http://www.google.com/search?q={}&hl=en\"\n",
        "\n",
        "\n",
        "query_results = []\n",
        "for query_search_term, correct_result_URL in zip(\n",
        "    df.query_search_term, df.correct_result_URL\n",
        "):\n",
        "    result_list = []\n",
        "    search_request = requests.get(\n",
        "        search_url.format(query_search_term.replace(\" \", \"+\")),                 # add query string to search url and request\n",
        "        headers={\"User-Agent\": \"Mozilla/5.0\"},\n",
        "    )\n",
        "    soup = BeautifulSoup(search_request.text, \"lxml\")                           # parse HTML\n",
        "    for search_result in soup.findAll(\"a\"):                                     # find all hypertext link tags\n",
        "        result_list.append(search_result.get(\"href\"))                           # append list with each href (Hypertext REFerence) url i.e., <a href=\"url\">text<a/>\n",
        "    if any(correct_result_URL in url for url in result_list):                   # find any url that matches the data url we are looking for\n",
        "        query_results.append(correct_result_URL)\n",
        "    else:\n",
        "        query_results.append(None)\n",
        "\n",
        "results_list = list(zip(df.query_search_term, df.correct_result_URL, query_results))\n",
        "df_google = pd.DataFrame(results_list, columns=['Query', 'Correct Result', 'Returned Result'])"
      ],
      "execution_count": null,
      "outputs": []
    },
    {
      "cell_type": "code",
      "execution_count": 3,
      "metadata": {},
      "outputs": [
        {
          "output_type": "execute_result",
          "data": {
            "text/plain": [
              "                                  Query  \\\n",
              "0                   Patient Online data   \n",
              "1  Electronic Prescription Service data   \n",
              "2  Electronic Prescription Service data   \n",
              "3                          NHS 111 data   \n",
              "4          Reported Covid symptoms data   \n",
              "\n",
              "                                      Correct Result  \\\n",
              "0  https://digital.nhs.uk/data-and-information/da...   \n",
              "1  https://digital.nhs.uk/data-and-information/da...   \n",
              "2  https://digital.nhs.uk/services/electronic-pre...   \n",
              "3  https://www.england.nhs.uk/statistics/statisti...   \n",
              "4  https://digital.nhs.uk/data-and-information/pu...   \n",
              "\n",
              "                                     Returned Result  \n",
              "0  https://digital.nhs.uk/data-and-information/da...  \n",
              "1  https://digital.nhs.uk/data-and-information/da...  \n",
              "2  https://digital.nhs.uk/services/electronic-pre...  \n",
              "3  https://www.england.nhs.uk/statistics/statisti...  \n",
              "4  https://digital.nhs.uk/data-and-information/pu...  "
            ],
            "text/html": "<div>\n<style scoped>\n    .dataframe tbody tr th:only-of-type {\n        vertical-align: middle;\n    }\n\n    .dataframe tbody tr th {\n        vertical-align: top;\n    }\n\n    .dataframe thead th {\n        text-align: right;\n    }\n</style>\n<table border=\"1\" class=\"dataframe\">\n  <thead>\n    <tr style=\"text-align: right;\">\n      <th></th>\n      <th>Query</th>\n      <th>Correct Result</th>\n      <th>Returned Result</th>\n    </tr>\n  </thead>\n  <tbody>\n    <tr>\n      <th>0</th>\n      <td>Patient Online data</td>\n      <td>https://digital.nhs.uk/data-and-information/da...</td>\n      <td>https://digital.nhs.uk/data-and-information/da...</td>\n    </tr>\n    <tr>\n      <th>1</th>\n      <td>Electronic Prescription Service data</td>\n      <td>https://digital.nhs.uk/data-and-information/da...</td>\n      <td>https://digital.nhs.uk/data-and-information/da...</td>\n    </tr>\n    <tr>\n      <th>2</th>\n      <td>Electronic Prescription Service data</td>\n      <td>https://digital.nhs.uk/services/electronic-pre...</td>\n      <td>https://digital.nhs.uk/services/electronic-pre...</td>\n    </tr>\n    <tr>\n      <th>3</th>\n      <td>NHS 111 data</td>\n      <td>https://www.england.nhs.uk/statistics/statisti...</td>\n      <td>https://www.england.nhs.uk/statistics/statisti...</td>\n    </tr>\n    <tr>\n      <th>4</th>\n      <td>Reported Covid symptoms data</td>\n      <td>https://digital.nhs.uk/data-and-information/pu...</td>\n      <td>https://digital.nhs.uk/data-and-information/pu...</td>\n    </tr>\n  </tbody>\n</table>\n</div>"
          },
          "metadata": {},
          "execution_count": 3
        }
      ],
      "source": [
        "df_google.head()"
      ]
    },
    {
      "cell_type": "code",
      "execution_count": null,
      "metadata": {},
      "outputs": [],
      "source": []
    }
  ]
}