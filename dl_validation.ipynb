{
  "nbformat": 4,
  "nbformat_minor": 0,
  "metadata": {
    "colab": {
      "name": "dl_validation.ipynb",
      "provenance": [],
      "collapsed_sections": []
    },
    "kernelspec": {
      "name": "python3",
      "display_name": "Python 3"
    }
  },
  "cells": [
    {
      "cell_type": "code",
      "metadata": {
        "colab": {
          "base_uri": "https://localhost:8080/",
          "height": 328
        },
        "id": "9N1Uy2zSVQD-",
        "outputId": "99f2986b-b3c5-4c75-c184-acb2503f0206"
      },
      "source": [
        "# https://stackoverflow.com/questions/59008756/getting-google-search-result-urls-from-search-string-or-url\n",
        "import requests\n",
        "from bs4 import BeautifulSoup\n",
        "import pandas as pd\n",
        "\n",
        "example_queries_url = \"https://raw.githubusercontent.com/nhsx/data-lens-query-validator/main/example_queries.csv\"\n",
        "df = pd.read_csv(example_queries_url, error_bad_lines=False)\n",
        "search_url = \"http://www.google.com/search?q={}&hl=en\"\n",
        "\n",
        "\n",
        "query_results = []\n",
        "for query_search_term, correct_result_URL in zip(\n",
        "    df.query_search_term, df.correct_result_URL\n",
        "):\n",
        "    result_list = []\n",
        "    search_request = requests.get(\n",
        "        search_url.format(query_search_term.replace(\" \", \"+\")),                 # add query string to search url and request\n",
        "        headers={\"User-Agent\": \"Mozilla/5.0\"},\n",
        "    )\n",
        "    soup = BeautifulSoup(search_request.text, \"lxml\")                           # parse HTML\n",
        "    for search_result in soup.findAll(\"a\"):                                     # find all hypertext link tags\n",
        "        result_list.append(search_result.get(\"href\"))                           # append list with each href (Hypertext REFerence) url i.e., <a href=\"url\">text<a/>\n",
        "    if any(correct_result_URL in url for url in result_list):                   # find any url that matches the data url we are looking for\n",
        "        query_results.append(correct_result_URL)\n",
        "    else:\n",
        "        query_results.append(None)\n",
        "\n",
        "results_dict = dict(zip(df.query_search_term, query_results))\n",
        "df_google = pd.DataFrame(results_dict.items(), columns=['Query', 'Result'])\n",
        "\n",
        "df_google\n"
      ],
      "execution_count": 6,
      "outputs": [
        {
          "output_type": "execute_result",
          "data": {
            "text/html": [
              "<div>\n",
              "<style scoped>\n",
              "    .dataframe tbody tr th:only-of-type {\n",
              "        vertical-align: middle;\n",
              "    }\n",
              "\n",
              "    .dataframe tbody tr th {\n",
              "        vertical-align: top;\n",
              "    }\n",
              "\n",
              "    .dataframe thead th {\n",
              "        text-align: right;\n",
              "    }\n",
              "</style>\n",
              "<table border=\"1\" class=\"dataframe\">\n",
              "  <thead>\n",
              "    <tr style=\"text-align: right;\">\n",
              "      <th></th>\n",
              "      <th>Query</th>\n",
              "      <th>Result</th>\n",
              "    </tr>\n",
              "  </thead>\n",
              "  <tbody>\n",
              "    <tr>\n",
              "      <th>0</th>\n",
              "      <td>Patient Online data</td>\n",
              "      <td>https://digital.nhs.uk/data-and-information/da...</td>\n",
              "    </tr>\n",
              "    <tr>\n",
              "      <th>1</th>\n",
              "      <td>Electronic Prescription Service data</td>\n",
              "      <td>None</td>\n",
              "    </tr>\n",
              "    <tr>\n",
              "      <th>2</th>\n",
              "      <td>NHS 111 data</td>\n",
              "      <td>https://www.england.nhs.uk/statistics/statisti...</td>\n",
              "    </tr>\n",
              "    <tr>\n",
              "      <th>3</th>\n",
              "      <td>Reported Covid symptoms data</td>\n",
              "      <td>None</td>\n",
              "    </tr>\n",
              "    <tr>\n",
              "      <th>4</th>\n",
              "      <td>GP Appointments data</td>\n",
              "      <td>None</td>\n",
              "    </tr>\n",
              "    <tr>\n",
              "      <th>5</th>\n",
              "      <td>Number of patients registered at GP practice data</td>\n",
              "      <td>https://digital.nhs.uk/data-and-information/pu...</td>\n",
              "    </tr>\n",
              "    <tr>\n",
              "      <th>6</th>\n",
              "      <td>CCG e-Referral data</td>\n",
              "      <td>None</td>\n",
              "    </tr>\n",
              "    <tr>\n",
              "      <th>7</th>\n",
              "      <td>e-Referral data</td>\n",
              "      <td>None</td>\n",
              "    </tr>\n",
              "    <tr>\n",
              "      <th>8</th>\n",
              "      <td>Digital Maturity Assessment</td>\n",
              "      <td>None</td>\n",
              "    </tr>\n",
              "  </tbody>\n",
              "</table>\n",
              "</div>"
            ],
            "text/plain": [
              "                                               Query                                             Result\n",
              "0                                Patient Online data  https://digital.nhs.uk/data-and-information/da...\n",
              "1               Electronic Prescription Service data                                               None\n",
              "2                                       NHS 111 data  https://www.england.nhs.uk/statistics/statisti...\n",
              "3                       Reported Covid symptoms data                                               None\n",
              "4                               GP Appointments data                                               None\n",
              "5  Number of patients registered at GP practice data  https://digital.nhs.uk/data-and-information/pu...\n",
              "6                                CCG e-Referral data                                               None\n",
              "7                                    e-Referral data                                               None\n",
              "8                        Digital Maturity Assessment                                               None"
            ]
          },
          "metadata": {
            "tags": []
          },
          "execution_count": 6
        }
      ]
    }
  ]
}